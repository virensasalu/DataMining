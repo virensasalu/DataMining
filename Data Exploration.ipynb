{
 "cells": [
  {
   "cell_type": "markdown",
   "id": "cf98638d",
   "metadata": {
    "id": "e14398de"
   },
   "source": [
    "## Let's Begin"
   ]
  },
  {
   "cell_type": "markdown",
   "id": "291544dc",
   "metadata": {
    "id": "8340d0e8"
   },
   "source": [
    "### Question: 1            (2 Marks)                                                                                                                                                  \n",
    "\n",
    "Install the required libraries for the assignment"
   ]
  },
  {
   "cell_type": "code",
   "execution_count": 121,
   "id": "ea85a1aa",
   "metadata": {
    "id": "3d729e18"
   },
   "outputs": [],
   "source": [
    "import numpy as np\n",
    "import pandas as pd"
   ]
  },
  {
   "cell_type": "markdown",
   "id": "ba48590d",
   "metadata": {
    "id": "8c61f48d"
   },
   "source": [
    "Check the version of Libraries"
   ]
  },
  {
   "cell_type": "code",
   "execution_count": 122,
   "id": "e9f4ba00",
   "metadata": {
    "id": "70d9c188"
   },
   "outputs": [
    {
     "name": "stdout",
     "output_type": "stream",
     "text": [
      "The version of Numpy is :  1.23.5\n",
      "The version of Pandas is  1.5.3\n"
     ]
    }
   ],
   "source": [
    "print('The version of Numpy is : ' ,np.__version__)\n",
    "print('The version of Pandas is ' ,pd.__version__)"
   ]
  },
  {
   "cell_type": "markdown",
   "id": "ec54b954",
   "metadata": {
    "id": "f12d41d3"
   },
   "source": [
    "Upgrade the Libraries"
   ]
  },
  {
   "cell_type": "code",
   "execution_count": 140,
   "id": "c090f127",
   "metadata": {
    "id": "f12d41d3"
   },
   "outputs": [
    {
     "name": "stdout",
     "output_type": "stream",
     "text": [
      "Requirement already satisfied: numpy in /Users/virensasalu/Documents/coding/anaconda3/lib/python3.10/site-packages (1.25.2)\n",
      "Requirement already satisfied: pandas in /Users/virensasalu/Documents/coding/anaconda3/lib/python3.10/site-packages (2.1.0)\n",
      "Requirement already satisfied: numpy>=1.22.4 in /Users/virensasalu/Documents/coding/anaconda3/lib/python3.10/site-packages (from pandas) (1.25.2)\n",
      "Requirement already satisfied: python-dateutil>=2.8.2 in /Users/virensasalu/Documents/coding/anaconda3/lib/python3.10/site-packages (from pandas) (2.8.2)\n",
      "Requirement already satisfied: pytz>=2020.1 in /Users/virensasalu/Documents/coding/anaconda3/lib/python3.10/site-packages (from pandas) (2022.7)\n",
      "Requirement already satisfied: tzdata>=2022.1 in /Users/virensasalu/Documents/coding/anaconda3/lib/python3.10/site-packages (from pandas) (2023.3)\n",
      "Requirement already satisfied: six>=1.5 in /Users/virensasalu/Documents/coding/anaconda3/lib/python3.10/site-packages (from python-dateutil>=2.8.2->pandas) (1.16.0)\n"
     ]
    }
   ],
   "source": [
    "!pip install --upgrade numpy\n",
    "!pip install --upgrade pandas"
   ]
  },
  {
   "cell_type": "markdown",
   "id": "48a20421",
   "metadata": {
    "id": "84e10f95"
   },
   "source": [
    "Check The latest version after upgrading library"
   ]
  },
  {
   "cell_type": "code",
   "execution_count": 143,
   "id": "916a0176",
   "metadata": {
    "id": "84e10f95"
   },
   "outputs": [
    {
     "name": "stdout",
     "output_type": "stream",
     "text": [
      "The version of Numpy is :  1.23.5\n",
      "The version of Pandas is  1.5.3\n",
      "Installing updates\n",
      "Requirement already satisfied: numpy in /Users/virensasalu/Documents/coding/anaconda3/lib/python3.10/site-packages (1.25.2)\n",
      "Requirement already satisfied: pandas in /Users/virensasalu/Documents/coding/anaconda3/lib/python3.10/site-packages (2.1.0)\n",
      "Requirement already satisfied: numpy>=1.22.4 in /Users/virensasalu/Documents/coding/anaconda3/lib/python3.10/site-packages (from pandas) (1.25.2)\n",
      "Requirement already satisfied: python-dateutil>=2.8.2 in /Users/virensasalu/Documents/coding/anaconda3/lib/python3.10/site-packages (from pandas) (2.8.2)\n",
      "Requirement already satisfied: pytz>=2020.1 in /Users/virensasalu/Documents/coding/anaconda3/lib/python3.10/site-packages (from pandas) (2022.7)\n",
      "Requirement already satisfied: tzdata>=2022.1 in /Users/virensasalu/Documents/coding/anaconda3/lib/python3.10/site-packages (from pandas) (2023.3)\n",
      "Requirement already satisfied: six>=1.5 in /Users/virensasalu/Documents/coding/anaconda3/lib/python3.10/site-packages (from python-dateutil>=2.8.2->pandas) (1.16.0)\n",
      "The Latest version of Numpy is :  1.23.5\n",
      "The Latest version of Pandas is  1.5.3\n"
     ]
    }
   ],
   "source": [
    "import numpy as np\n",
    "import pandas as pd\n",
    "\n",
    "print('The version of Numpy is : ' ,np.__version__)\n",
    "print('The version of Pandas is ' ,pd.__version__)\n",
    "print('Installing updates')\n",
    "\n",
    "!pip install --upgrade numpy\n",
    "!pip install --upgrade pandas\n",
    "print('The Latest version of Numpy is : ' ,np.__version__)\n",
    "print('The Latest version of Pandas is ' ,pd.__version__)"
   ]
  },
  {
   "cell_type": "markdown",
   "id": "1ddb507b",
   "metadata": {
    "id": "a4efbe66"
   },
   "source": [
    "### Question: 2 (2 marks)\n",
    "\n",
    "- Fill in the missing code. \n",
    "- Store the data in to a variable, then display the top 5 and bottom 5 rows of records and check the dataset's shape."
   ]
  },
  {
   "cell_type": "markdown",
   "id": "f53ddd38",
   "metadata": {
    "id": "4368ca97"
   },
   "source": [
    "Load the dataframe and store it into the variable"
   ]
  },
  {
   "cell_type": "code",
   "execution_count": 125,
   "id": "829b98cd",
   "metadata": {
    "id": "4368ca97"
   },
   "outputs": [],
   "source": [
    "df = pd.read_csv('/Users/virensasalu/Documents/on this macbook/The University of Arizona/Course Work/Data Mining and Discovery/Assignments/download.csv')"
   ]
  },
  {
   "cell_type": "markdown",
   "id": "a594e0ff",
   "metadata": {
    "id": "20aae492"
   },
   "source": [
    "Display the Top 5 records"
   ]
  },
  {
   "cell_type": "code",
   "execution_count": 126,
   "id": "0c4decad",
   "metadata": {
    "id": "20aae492"
   },
   "outputs": [
    {
     "data": {
      "text/html": [
       "<div>\n",
       "<style scoped>\n",
       "    .dataframe tbody tr th:only-of-type {\n",
       "        vertical-align: middle;\n",
       "    }\n",
       "\n",
       "    .dataframe tbody tr th {\n",
       "        vertical-align: top;\n",
       "    }\n",
       "\n",
       "    .dataframe thead th {\n",
       "        text-align: right;\n",
       "    }\n",
       "</style>\n",
       "<table border=\"1\" class=\"dataframe\">\n",
       "  <thead>\n",
       "    <tr style=\"text-align: right;\">\n",
       "      <th></th>\n",
       "      <th>id</th>\n",
       "      <th>name</th>\n",
       "      <th>date</th>\n",
       "      <th>manner_of_death</th>\n",
       "      <th>armed</th>\n",
       "      <th>age</th>\n",
       "      <th>gender</th>\n",
       "      <th>race</th>\n",
       "      <th>city</th>\n",
       "      <th>state</th>\n",
       "      <th>signs_of_mental_illness</th>\n",
       "      <th>threat_level</th>\n",
       "      <th>flee</th>\n",
       "      <th>body_camera</th>\n",
       "    </tr>\n",
       "  </thead>\n",
       "  <tbody>\n",
       "    <tr>\n",
       "      <th>0</th>\n",
       "      <td>3</td>\n",
       "      <td>Tim Elliot</td>\n",
       "      <td>2015-01-02</td>\n",
       "      <td>shot</td>\n",
       "      <td>gun</td>\n",
       "      <td>53.0</td>\n",
       "      <td>M</td>\n",
       "      <td>A</td>\n",
       "      <td>Shelton</td>\n",
       "      <td>WA</td>\n",
       "      <td>True</td>\n",
       "      <td>attack</td>\n",
       "      <td>Not fleeing</td>\n",
       "      <td>False</td>\n",
       "    </tr>\n",
       "    <tr>\n",
       "      <th>1</th>\n",
       "      <td>4</td>\n",
       "      <td>Lewis Lee Lembke</td>\n",
       "      <td>2015-01-02</td>\n",
       "      <td>shot</td>\n",
       "      <td>gun</td>\n",
       "      <td>47.0</td>\n",
       "      <td>M</td>\n",
       "      <td>W</td>\n",
       "      <td>Aloha</td>\n",
       "      <td>OR</td>\n",
       "      <td>False</td>\n",
       "      <td>attack</td>\n",
       "      <td>Not fleeing</td>\n",
       "      <td>False</td>\n",
       "    </tr>\n",
       "    <tr>\n",
       "      <th>2</th>\n",
       "      <td>5</td>\n",
       "      <td>John Paul Quintero</td>\n",
       "      <td>2015-01-03</td>\n",
       "      <td>shot and Tasered</td>\n",
       "      <td>unarmed</td>\n",
       "      <td>23.0</td>\n",
       "      <td>M</td>\n",
       "      <td>H</td>\n",
       "      <td>Wichita</td>\n",
       "      <td>KS</td>\n",
       "      <td>False</td>\n",
       "      <td>other</td>\n",
       "      <td>Not fleeing</td>\n",
       "      <td>False</td>\n",
       "    </tr>\n",
       "    <tr>\n",
       "      <th>3</th>\n",
       "      <td>8</td>\n",
       "      <td>Matthew Hoffman</td>\n",
       "      <td>2015-01-04</td>\n",
       "      <td>shot</td>\n",
       "      <td>toy weapon</td>\n",
       "      <td>32.0</td>\n",
       "      <td>M</td>\n",
       "      <td>W</td>\n",
       "      <td>San Francisco</td>\n",
       "      <td>CA</td>\n",
       "      <td>True</td>\n",
       "      <td>attack</td>\n",
       "      <td>Not fleeing</td>\n",
       "      <td>False</td>\n",
       "    </tr>\n",
       "    <tr>\n",
       "      <th>4</th>\n",
       "      <td>9</td>\n",
       "      <td>Michael Rodriguez</td>\n",
       "      <td>2015-01-04</td>\n",
       "      <td>shot</td>\n",
       "      <td>nail gun</td>\n",
       "      <td>39.0</td>\n",
       "      <td>M</td>\n",
       "      <td>H</td>\n",
       "      <td>Evans</td>\n",
       "      <td>CO</td>\n",
       "      <td>False</td>\n",
       "      <td>attack</td>\n",
       "      <td>Not fleeing</td>\n",
       "      <td>False</td>\n",
       "    </tr>\n",
       "  </tbody>\n",
       "</table>\n",
       "</div>"
      ],
      "text/plain": [
       "   id                name        date   manner_of_death       armed   age  \\\n",
       "0   3          Tim Elliot  2015-01-02              shot         gun  53.0   \n",
       "1   4    Lewis Lee Lembke  2015-01-02              shot         gun  47.0   \n",
       "2   5  John Paul Quintero  2015-01-03  shot and Tasered     unarmed  23.0   \n",
       "3   8     Matthew Hoffman  2015-01-04              shot  toy weapon  32.0   \n",
       "4   9   Michael Rodriguez  2015-01-04              shot    nail gun  39.0   \n",
       "\n",
       "  gender race           city state  signs_of_mental_illness threat_level  \\\n",
       "0      M    A        Shelton    WA                     True       attack   \n",
       "1      M    W          Aloha    OR                    False       attack   \n",
       "2      M    H        Wichita    KS                    False        other   \n",
       "3      M    W  San Francisco    CA                     True       attack   \n",
       "4      M    H          Evans    CO                    False       attack   \n",
       "\n",
       "          flee  body_camera  \n",
       "0  Not fleeing        False  \n",
       "1  Not fleeing        False  \n",
       "2  Not fleeing        False  \n",
       "3  Not fleeing        False  \n",
       "4  Not fleeing        False  "
      ]
     },
     "execution_count": 126,
     "metadata": {},
     "output_type": "execute_result"
    }
   ],
   "source": [
    "df.head(5)"
   ]
  },
  {
   "cell_type": "markdown",
   "id": "da915bef",
   "metadata": {
    "id": "dd028726"
   },
   "source": [
    "Display the last 5 records"
   ]
  },
  {
   "cell_type": "code",
   "execution_count": 127,
   "id": "95ccac88",
   "metadata": {
    "id": "dd028726"
   },
   "outputs": [
    {
     "data": {
      "text/html": [
       "<div>\n",
       "<style scoped>\n",
       "    .dataframe tbody tr th:only-of-type {\n",
       "        vertical-align: middle;\n",
       "    }\n",
       "\n",
       "    .dataframe tbody tr th {\n",
       "        vertical-align: top;\n",
       "    }\n",
       "\n",
       "    .dataframe thead th {\n",
       "        text-align: right;\n",
       "    }\n",
       "</style>\n",
       "<table border=\"1\" class=\"dataframe\">\n",
       "  <thead>\n",
       "    <tr style=\"text-align: right;\">\n",
       "      <th></th>\n",
       "      <th>id</th>\n",
       "      <th>name</th>\n",
       "      <th>date</th>\n",
       "      <th>manner_of_death</th>\n",
       "      <th>armed</th>\n",
       "      <th>age</th>\n",
       "      <th>gender</th>\n",
       "      <th>race</th>\n",
       "      <th>city</th>\n",
       "      <th>state</th>\n",
       "      <th>signs_of_mental_illness</th>\n",
       "      <th>threat_level</th>\n",
       "      <th>flee</th>\n",
       "      <th>body_camera</th>\n",
       "    </tr>\n",
       "  </thead>\n",
       "  <tbody>\n",
       "    <tr>\n",
       "      <th>4473</th>\n",
       "      <td>4907</td>\n",
       "      <td>Connor Betts</td>\n",
       "      <td>2019-08-04</td>\n",
       "      <td>shot</td>\n",
       "      <td>gun</td>\n",
       "      <td>24.0</td>\n",
       "      <td>M</td>\n",
       "      <td>W</td>\n",
       "      <td>Dayton</td>\n",
       "      <td>OH</td>\n",
       "      <td>True</td>\n",
       "      <td>attack</td>\n",
       "      <td>Not fleeing</td>\n",
       "      <td>False</td>\n",
       "    </tr>\n",
       "    <tr>\n",
       "      <th>4474</th>\n",
       "      <td>4909</td>\n",
       "      <td>Robert Clay Wilsford Jr.</td>\n",
       "      <td>2019-08-04</td>\n",
       "      <td>shot</td>\n",
       "      <td>gun</td>\n",
       "      <td>65.0</td>\n",
       "      <td>M</td>\n",
       "      <td>NaN</td>\n",
       "      <td>Hanceville</td>\n",
       "      <td>AL</td>\n",
       "      <td>True</td>\n",
       "      <td>attack</td>\n",
       "      <td>Not fleeing</td>\n",
       "      <td>False</td>\n",
       "    </tr>\n",
       "    <tr>\n",
       "      <th>4475</th>\n",
       "      <td>4910</td>\n",
       "      <td>TK TK</td>\n",
       "      <td>2019-08-05</td>\n",
       "      <td>shot</td>\n",
       "      <td>undetermined</td>\n",
       "      <td>NaN</td>\n",
       "      <td>NaN</td>\n",
       "      <td>NaN</td>\n",
       "      <td>Salt Lake City</td>\n",
       "      <td>UT</td>\n",
       "      <td>False</td>\n",
       "      <td>undetermined</td>\n",
       "      <td>Not fleeing</td>\n",
       "      <td>True</td>\n",
       "    </tr>\n",
       "    <tr>\n",
       "      <th>4476</th>\n",
       "      <td>4914</td>\n",
       "      <td>James Kirkwood</td>\n",
       "      <td>2019-08-05</td>\n",
       "      <td>shot</td>\n",
       "      <td>knife</td>\n",
       "      <td>49.0</td>\n",
       "      <td>M</td>\n",
       "      <td>B</td>\n",
       "      <td>Memphis</td>\n",
       "      <td>TN</td>\n",
       "      <td>False</td>\n",
       "      <td>attack</td>\n",
       "      <td>Foot</td>\n",
       "      <td>False</td>\n",
       "    </tr>\n",
       "    <tr>\n",
       "      <th>4477</th>\n",
       "      <td>4916</td>\n",
       "      <td>Marvin Alexis Urbina</td>\n",
       "      <td>2019-08-05</td>\n",
       "      <td>shot</td>\n",
       "      <td>vehicle</td>\n",
       "      <td>19.0</td>\n",
       "      <td>M</td>\n",
       "      <td>H</td>\n",
       "      <td>Bakersfield</td>\n",
       "      <td>CA</td>\n",
       "      <td>False</td>\n",
       "      <td>other</td>\n",
       "      <td>Car</td>\n",
       "      <td>False</td>\n",
       "    </tr>\n",
       "  </tbody>\n",
       "</table>\n",
       "</div>"
      ],
      "text/plain": [
       "        id                      name        date manner_of_death  \\\n",
       "4473  4907              Connor Betts  2019-08-04            shot   \n",
       "4474  4909  Robert Clay Wilsford Jr.  2019-08-04            shot   \n",
       "4475  4910                     TK TK  2019-08-05            shot   \n",
       "4476  4914            James Kirkwood  2019-08-05            shot   \n",
       "4477  4916      Marvin Alexis Urbina  2019-08-05            shot   \n",
       "\n",
       "             armed   age gender race            city state  \\\n",
       "4473           gun  24.0      M    W          Dayton    OH   \n",
       "4474           gun  65.0      M  NaN      Hanceville    AL   \n",
       "4475  undetermined   NaN    NaN  NaN  Salt Lake City    UT   \n",
       "4476         knife  49.0      M    B         Memphis    TN   \n",
       "4477       vehicle  19.0      M    H     Bakersfield    CA   \n",
       "\n",
       "      signs_of_mental_illness  threat_level         flee  body_camera  \n",
       "4473                     True        attack  Not fleeing        False  \n",
       "4474                     True        attack  Not fleeing        False  \n",
       "4475                    False  undetermined  Not fleeing         True  \n",
       "4476                    False        attack         Foot        False  \n",
       "4477                    False         other          Car        False  "
      ]
     },
     "execution_count": 127,
     "metadata": {},
     "output_type": "execute_result"
    }
   ],
   "source": [
    "df.tail(5)"
   ]
  },
  {
   "cell_type": "markdown",
   "id": "5ce77214",
   "metadata": {
    "id": "dd028726"
   },
   "source": [
    "Todo: Code to fill"
   ]
  },
  {
   "cell_type": "code",
   "execution_count": 128,
   "id": "69810713",
   "metadata": {
    "id": "dd028726"
   },
   "outputs": [
    {
     "name": "stdout",
     "output_type": "stream",
     "text": [
      "   id                name        date   manner_of_death       armed   age  \\\n",
      "0   3          Tim Elliot  2015-01-02              shot         gun  53.0   \n",
      "1   4    Lewis Lee Lembke  2015-01-02              shot         gun  47.0   \n",
      "2   5  John Paul Quintero  2015-01-03  shot and Tasered     unarmed  23.0   \n",
      "3   8     Matthew Hoffman  2015-01-04              shot  toy weapon  32.0   \n",
      "4   9   Michael Rodriguez  2015-01-04              shot    nail gun  39.0   \n",
      "\n",
      "  gender race           city state  signs_of_mental_illness threat_level  \\\n",
      "0      M    A        Shelton    WA                     True       attack   \n",
      "1      M    W          Aloha    OR                    False       attack   \n",
      "2      M    H        Wichita    KS                    False        other   \n",
      "3      M    W  San Francisco    CA                     True       attack   \n",
      "4      M    H          Evans    CO                    False       attack   \n",
      "\n",
      "          flee  body_camera  \n",
      "0  Not fleeing        False  \n",
      "1  Not fleeing        False  \n",
      "2  Not fleeing        False  \n",
      "3  Not fleeing        False  \n",
      "4  Not fleeing        False  \n",
      "        id                      name        date manner_of_death  \\\n",
      "4473  4907              Connor Betts  2019-08-04            shot   \n",
      "4474  4909  Robert Clay Wilsford Jr.  2019-08-04            shot   \n",
      "4475  4910                     TK TK  2019-08-05            shot   \n",
      "4476  4914            James Kirkwood  2019-08-05            shot   \n",
      "4477  4916      Marvin Alexis Urbina  2019-08-05            shot   \n",
      "\n",
      "             armed   age gender race            city state  \\\n",
      "4473           gun  24.0      M    W          Dayton    OH   \n",
      "4474           gun  65.0      M  NaN      Hanceville    AL   \n",
      "4475  undetermined   NaN    NaN  NaN  Salt Lake City    UT   \n",
      "4476         knife  49.0      M    B         Memphis    TN   \n",
      "4477       vehicle  19.0      M    H     Bakersfield    CA   \n",
      "\n",
      "      signs_of_mental_illness  threat_level         flee  body_camera  \n",
      "4473                     True        attack  Not fleeing        False  \n",
      "4474                     True        attack  Not fleeing        False  \n",
      "4475                    False  undetermined  Not fleeing         True  \n",
      "4476                    False        attack         Foot        False  \n",
      "4477                    False         other          Car        False  \n"
     ]
    }
   ],
   "source": [
    "df = pd.read_csv('/Users/virensasalu/Documents/on this macbook/The University of Arizona/Course Work/Data Mining and Discovery/Assignments/download.csv')\n",
    "print(df.head(5))\n",
    "print(df.tail(5))"
   ]
  },
  {
   "cell_type": "code",
   "execution_count": 129,
   "id": "48154ad5",
   "metadata": {
    "id": "e42eb4da",
    "outputId": "dd8c3c7a-e643-437a-e257-7f0fc7e59722"
   },
   "outputs": [
    {
     "name": "stdout",
     "output_type": "stream",
     "text": [
      "No of columns:  14\n",
      "No of rows:  4478\n"
     ]
    }
   ],
   "source": [
    "# Check the shape of the datset\n",
    "print(\"No of columns: \",df.shape[1])\n",
    "print(\"No of rows: \",df.shape[0])"
   ]
  },
  {
   "cell_type": "markdown",
   "id": "c7f89cd9",
   "metadata": {
    "id": "195e585a"
   },
   "source": [
    "### Question: 3 (2 marks)\n",
    "Caluculate the statistical metrics of a column in a dataset"
   ]
  },
  {
   "cell_type": "markdown",
   "id": "2ac947c3",
   "metadata": {
    "id": "6d0e4df2",
    "outputId": "27bb88dc-63e5-4fbf-8f03-7e80d54dbe63"
   },
   "source": [
    "Calculate the standard devaition?"
   ]
  },
  {
   "cell_type": "code",
   "execution_count": 130,
   "id": "de649f4b",
   "metadata": {
    "id": "6d0e4df2",
    "outputId": "27bb88dc-63e5-4fbf-8f03-7e80d54dbe63"
   },
   "outputs": [
    {
     "name": "stdout",
     "output_type": "stream",
     "text": [
      "The Standard Devaition of the Age Column is : 13.067598403906874\n"
     ]
    }
   ],
   "source": [
    "StandardDevaitionAge =  df['age'].std()\n",
    "print('The Standard Devaition of the Age Column is :', StandardDevaitionAge)"
   ]
  },
  {
   "cell_type": "markdown",
   "id": "74ebc53c",
   "metadata": {
    "id": "ac250691",
    "outputId": "69263ac7-5c07-4247-8ccf-1349ce57f7ab"
   },
   "source": [
    "Average age of a victim?"
   ]
  },
  {
   "cell_type": "code",
   "execution_count": 131,
   "id": "07c86fdb",
   "metadata": {
    "id": "ac250691",
    "outputId": "69263ac7-5c07-4247-8ccf-1349ce57f7ab"
   },
   "outputs": [
    {
     "name": "stdout",
     "output_type": "stream",
     "text": [
      "The Average Age of the Victims is :  36.87932234857276\n"
     ]
    }
   ],
   "source": [
    "AverageAge = df['age'].mean()\n",
    "print('The Average Age of the Victims is : ' ,AverageAge)"
   ]
  },
  {
   "cell_type": "markdown",
   "id": "fda46081",
   "metadata": {
    "id": "2322ddbf"
   },
   "source": [
    " Which city records the most Kill Events by police?"
   ]
  },
  {
   "cell_type": "code",
   "execution_count": 132,
   "id": "a080eb80",
   "metadata": {
    "id": "2322ddbf"
   },
   "outputs": [
    {
     "name": "stdout",
     "output_type": "stream",
     "text": [
      "The city which records the most Kill Events by police is :  Phoenix\n"
     ]
    }
   ],
   "source": [
    "MostKilledCity = df['city'].value_counts().idxmax()\n",
    "print('The city which records the most Kill Events by police is : ',MostKilledCity)"
   ]
  },
  {
   "cell_type": "markdown",
   "id": "dcb3e6a6",
   "metadata": {
    "id": "be08780a"
   },
   "source": [
    "### Question: 4 (2 marks)\n",
    "Create a new  \" age categories \" column using age column of a dataset"
   ]
  },
  {
   "cell_type": "code",
   "execution_count": 133,
   "id": "5451fc22",
   "metadata": {
    "id": "4fd0f394"
   },
   "outputs": [],
   "source": [
    "'''Hint: if age is between 0 to 12, then categorise as child. \n",
    "13-21 as Teenage, 22-34 as Youth, 35-50 as Adult, 51-120 as Senior citizens'''\n",
    "\n",
    "def categorize_age(age):\n",
    "    if age <= 12:\n",
    "        return \"Child\"\n",
    "    elif age <= 21:\n",
    "        return \"Teenage\"\n",
    "    elif age <= 34:\n",
    "        return \"Youth\"\n",
    "    elif age <= 50:\n",
    "        return \"Adult\"\n",
    "    else:\n",
    "        return \"Senior Citizen\"\n",
    "\n",
    "df['age categories'] = df['age'].apply(categorize_age)\n",
    "\n"
   ]
  },
  {
   "cell_type": "markdown",
   "id": "091503a9",
   "metadata": {
    "id": "2af025a0"
   },
   "source": [
    "Display the first 5 records after creating the column"
   ]
  },
  {
   "cell_type": "code",
   "execution_count": 134,
   "id": "572892a1",
   "metadata": {
    "id": "2af025a0"
   },
   "outputs": [],
   "source": [
    "def categorize_age(age):\n",
    "    if age <= 12:\n",
    "        return \"Child\"\n",
    "    elif age <= 21:\n",
    "        return \"Teenage\"\n",
    "    elif age <= 34:\n",
    "        return \"Youth\"\n",
    "    elif age <= 50:\n",
    "        return \"Adult\"\n",
    "    else:\n",
    "        return \"Senior Citizen\"\n",
    "\n",
    "df['age categories'] = df['age'].apply(categorize_age)\n"
   ]
  },
  {
   "cell_type": "code",
   "execution_count": 135,
   "id": "e0aab666",
   "metadata": {
    "id": "2af025a0"
   },
   "outputs": [
    {
     "data": {
      "text/html": [
       "<div>\n",
       "<style scoped>\n",
       "    .dataframe tbody tr th:only-of-type {\n",
       "        vertical-align: middle;\n",
       "    }\n",
       "\n",
       "    .dataframe tbody tr th {\n",
       "        vertical-align: top;\n",
       "    }\n",
       "\n",
       "    .dataframe thead th {\n",
       "        text-align: right;\n",
       "    }\n",
       "</style>\n",
       "<table border=\"1\" class=\"dataframe\">\n",
       "  <thead>\n",
       "    <tr style=\"text-align: right;\">\n",
       "      <th></th>\n",
       "      <th>id</th>\n",
       "      <th>name</th>\n",
       "      <th>date</th>\n",
       "      <th>manner_of_death</th>\n",
       "      <th>armed</th>\n",
       "      <th>age</th>\n",
       "      <th>gender</th>\n",
       "      <th>race</th>\n",
       "      <th>city</th>\n",
       "      <th>state</th>\n",
       "      <th>signs_of_mental_illness</th>\n",
       "      <th>threat_level</th>\n",
       "      <th>flee</th>\n",
       "      <th>body_camera</th>\n",
       "      <th>age categories</th>\n",
       "    </tr>\n",
       "  </thead>\n",
       "  <tbody>\n",
       "    <tr>\n",
       "      <th>0</th>\n",
       "      <td>3</td>\n",
       "      <td>Tim Elliot</td>\n",
       "      <td>2015-01-02</td>\n",
       "      <td>shot</td>\n",
       "      <td>gun</td>\n",
       "      <td>53.0</td>\n",
       "      <td>M</td>\n",
       "      <td>A</td>\n",
       "      <td>Shelton</td>\n",
       "      <td>WA</td>\n",
       "      <td>True</td>\n",
       "      <td>attack</td>\n",
       "      <td>Not fleeing</td>\n",
       "      <td>False</td>\n",
       "      <td>Senior Citizen</td>\n",
       "    </tr>\n",
       "    <tr>\n",
       "      <th>1</th>\n",
       "      <td>4</td>\n",
       "      <td>Lewis Lee Lembke</td>\n",
       "      <td>2015-01-02</td>\n",
       "      <td>shot</td>\n",
       "      <td>gun</td>\n",
       "      <td>47.0</td>\n",
       "      <td>M</td>\n",
       "      <td>W</td>\n",
       "      <td>Aloha</td>\n",
       "      <td>OR</td>\n",
       "      <td>False</td>\n",
       "      <td>attack</td>\n",
       "      <td>Not fleeing</td>\n",
       "      <td>False</td>\n",
       "      <td>Adult</td>\n",
       "    </tr>\n",
       "    <tr>\n",
       "      <th>2</th>\n",
       "      <td>5</td>\n",
       "      <td>John Paul Quintero</td>\n",
       "      <td>2015-01-03</td>\n",
       "      <td>shot and Tasered</td>\n",
       "      <td>unarmed</td>\n",
       "      <td>23.0</td>\n",
       "      <td>M</td>\n",
       "      <td>H</td>\n",
       "      <td>Wichita</td>\n",
       "      <td>KS</td>\n",
       "      <td>False</td>\n",
       "      <td>other</td>\n",
       "      <td>Not fleeing</td>\n",
       "      <td>False</td>\n",
       "      <td>Youth</td>\n",
       "    </tr>\n",
       "    <tr>\n",
       "      <th>3</th>\n",
       "      <td>8</td>\n",
       "      <td>Matthew Hoffman</td>\n",
       "      <td>2015-01-04</td>\n",
       "      <td>shot</td>\n",
       "      <td>toy weapon</td>\n",
       "      <td>32.0</td>\n",
       "      <td>M</td>\n",
       "      <td>W</td>\n",
       "      <td>San Francisco</td>\n",
       "      <td>CA</td>\n",
       "      <td>True</td>\n",
       "      <td>attack</td>\n",
       "      <td>Not fleeing</td>\n",
       "      <td>False</td>\n",
       "      <td>Youth</td>\n",
       "    </tr>\n",
       "    <tr>\n",
       "      <th>4</th>\n",
       "      <td>9</td>\n",
       "      <td>Michael Rodriguez</td>\n",
       "      <td>2015-01-04</td>\n",
       "      <td>shot</td>\n",
       "      <td>nail gun</td>\n",
       "      <td>39.0</td>\n",
       "      <td>M</td>\n",
       "      <td>H</td>\n",
       "      <td>Evans</td>\n",
       "      <td>CO</td>\n",
       "      <td>False</td>\n",
       "      <td>attack</td>\n",
       "      <td>Not fleeing</td>\n",
       "      <td>False</td>\n",
       "      <td>Adult</td>\n",
       "    </tr>\n",
       "  </tbody>\n",
       "</table>\n",
       "</div>"
      ],
      "text/plain": [
       "   id                name        date   manner_of_death       armed   age  \\\n",
       "0   3          Tim Elliot  2015-01-02              shot         gun  53.0   \n",
       "1   4    Lewis Lee Lembke  2015-01-02              shot         gun  47.0   \n",
       "2   5  John Paul Quintero  2015-01-03  shot and Tasered     unarmed  23.0   \n",
       "3   8     Matthew Hoffman  2015-01-04              shot  toy weapon  32.0   \n",
       "4   9   Michael Rodriguez  2015-01-04              shot    nail gun  39.0   \n",
       "\n",
       "  gender race           city state  signs_of_mental_illness threat_level  \\\n",
       "0      M    A        Shelton    WA                     True       attack   \n",
       "1      M    W          Aloha    OR                    False       attack   \n",
       "2      M    H        Wichita    KS                    False        other   \n",
       "3      M    W  San Francisco    CA                     True       attack   \n",
       "4      M    H          Evans    CO                    False       attack   \n",
       "\n",
       "          flee  body_camera  age categories  \n",
       "0  Not fleeing        False  Senior Citizen  \n",
       "1  Not fleeing        False           Adult  \n",
       "2  Not fleeing        False           Youth  \n",
       "3  Not fleeing        False           Youth  \n",
       "4  Not fleeing        False           Adult  "
      ]
     },
     "execution_count": 135,
     "metadata": {},
     "output_type": "execute_result"
    }
   ],
   "source": [
    "df.head(5)"
   ]
  },
  {
   "cell_type": "markdown",
   "id": "d8dc3ec7",
   "metadata": {
    "id": "d9347ed8"
   },
   "source": [
    "### Question: 5 (2 marks)\n",
    "Find the state which records the most kill events by police and display the type of attacks done on the male senior citizen of that state."
   ]
  },
  {
   "cell_type": "markdown",
   "id": "df087665",
   "metadata": {
    "id": "17a3ca7b",
    "outputId": "17bcd365-4aee-40ea-b412-d9c4f16715a3"
   },
   "source": [
    "Which State records the most Kill Events by police?"
   ]
  },
  {
   "cell_type": "code",
   "execution_count": 136,
   "id": "ce7d3ec3",
   "metadata": {
    "id": "17a3ca7b",
    "outputId": "17bcd365-4aee-40ea-b412-d9c4f16715a3"
   },
   "outputs": [
    {
     "name": "stdout",
     "output_type": "stream",
     "text": [
      "The state with most kill recoreds is : CA\n"
     ]
    }
   ],
   "source": [
    "MostKilledState = df['state'].value_counts().idxmax()\n",
    "print('The state with most kill recoreds is :',MostKilledState)"
   ]
  },
  {
   "cell_type": "markdown",
   "id": "0c6029e6",
   "metadata": {
    "id": "8493450d"
   },
   "source": [
    "What kinds of attacks (armed) are most affected by the male senior citizens in the state of 'CA'"
   ]
  },
  {
   "cell_type": "code",
   "execution_count": 137,
   "id": "fdb9177d",
   "metadata": {
    "id": "8493450d"
   },
   "outputs": [],
   "source": [
    "result = df[(df['age categories'] == 'Senior Citizen') & (df['gender'] == 'M') & (df['state'] == 'CA')]['armed'].unique()\n",
    "\n",
    "#print(\"The kind of attacks (armed) affected by the male senior citizens in the state of 'CA' is : \",result)\n",
    "#print()"
   ]
  },
  {
   "cell_type": "markdown",
   "id": "76b03b29",
   "metadata": {
    "id": "8493450d"
   },
   "source": [
    "Extract distinct attack types from the filtered data"
   ]
  },
  {
   "cell_type": "code",
   "execution_count": 138,
   "id": "788c1b45",
   "metadata": {
    "id": "8493450d",
    "scrolled": true
   },
   "outputs": [
    {
     "name": "stdout",
     "output_type": "stream",
     "text": [
      "Distinct types of attcaks are :  \n",
      " ['gun' 'toy weapon' 'knife' 'undetermined' 'box cutter' nan\n",
      " 'unknown weapon' 'pipe' 'unarmed' 'blunt object' 'pitchfork' 'metal pipe'\n",
      " 'ax' 'metal object' 'gun and knife' 'vehicle']\n"
     ]
    }
   ],
   "source": [
    "FileterResult = df[(df['age categories'] == 'Senior Citizen') &  (df['state'] == 'CA')]['armed'].unique()\n",
    "distinctAttacks = FileterResult\n",
    "print('Distinct types of attcaks are : ', '\\n' , distinctAttacks)"
   ]
  },
  {
   "cell_type": "markdown",
   "id": "7fd7f9ca",
   "metadata": {
    "id": "ee9fb540"
   },
   "source": [
    "Save the processed data to use for Week2 assignment "
   ]
  },
  {
   "cell_type": "code",
   "execution_count": 139,
   "id": "ddc49249",
   "metadata": {
    "id": "ee9fb540"
   },
   "outputs": [],
   "source": [
    "df.to_csv(\"week_1_assignment_output.csv\",index=False)"
   ]
  },
  {
   "cell_type": "markdown",
   "id": "07d1746a",
   "metadata": {
    "id": "9f6279cb"
   },
   "source": [
    "## Thank you!"
   ]
  }
 ],
 "metadata": {
  "colab": {
   "provenance": []
  },
  "kernelspec": {
   "display_name": "Python 3 (ipykernel)",
   "language": "python",
   "name": "python3"
  },
  "language_info": {
   "codemirror_mode": {
    "name": "ipython",
    "version": 3
   },
   "file_extension": ".py",
   "mimetype": "text/x-python",
   "name": "python",
   "nbconvert_exporter": "python",
   "pygments_lexer": "ipython3",
   "version": "3.10.9"
  }
 },
 "nbformat": 4,
 "nbformat_minor": 5
}
