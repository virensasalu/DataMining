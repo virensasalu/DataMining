{
 "cells": [
  {
   "cell_type": "markdown",
   "id": "e14398de",
   "metadata": {
    "id": "e14398de"
   },
   "source": [
    "## Let's Begin"
   ]
  },
  {
   "cell_type": "code",
   "execution_count": 1,
   "id": "ee06bb7a",
   "metadata": {
    "id": "bbffb6a9"
   },
   "outputs": [],
   "source": [
    "# Install the libraries\n",
    "import pandas as pd \n",
    "import numpy as np\n",
    "import matplotlib.pyplot as plt\n",
    "import seaborn as sns\n",
    "%matplotlib inline"
   ]
  },
  {
   "cell_type": "code",
   "execution_count": 2,
   "id": "bbffb6a9",
   "metadata": {
    "id": "bbffb6a9"
   },
   "outputs": [],
   "source": [
    "# I kept reciving warnings when I executed seaborn codes. I upgraded all the libraries but still did not help.\n",
    "\n",
    "import warnings\n",
    "warnings.filterwarnings(\"ignore\", category=FutureWarning)"
   ]
  },
  {
   "cell_type": "code",
   "execution_count": 3,
   "id": "336383ca",
   "metadata": {
    "colab": {
     "base_uri": "https://localhost:8080/",
     "height": 357
    },
    "id": "336383ca",
    "outputId": "4fe4c05a-76d3-4689-d022-f89cf214cdb3"
   },
   "outputs": [
    {
     "data": {
      "text/html": [
       "<div>\n",
       "<style scoped>\n",
       "    .dataframe tbody tr th:only-of-type {\n",
       "        vertical-align: middle;\n",
       "    }\n",
       "\n",
       "    .dataframe tbody tr th {\n",
       "        vertical-align: top;\n",
       "    }\n",
       "\n",
       "    .dataframe thead th {\n",
       "        text-align: right;\n",
       "    }\n",
       "</style>\n",
       "<table border=\"1\" class=\"dataframe\">\n",
       "  <thead>\n",
       "    <tr style=\"text-align: right;\">\n",
       "      <th></th>\n",
       "      <th>id</th>\n",
       "      <th>name</th>\n",
       "      <th>date</th>\n",
       "      <th>manner_of_death</th>\n",
       "      <th>armed</th>\n",
       "      <th>age</th>\n",
       "      <th>gender</th>\n",
       "      <th>race</th>\n",
       "      <th>city</th>\n",
       "      <th>state</th>\n",
       "      <th>signs_of_mental_illness</th>\n",
       "      <th>threat_level</th>\n",
       "      <th>flee</th>\n",
       "      <th>body_camera</th>\n",
       "      <th>age categories</th>\n",
       "      <th>year</th>\n",
       "    </tr>\n",
       "  </thead>\n",
       "  <tbody>\n",
       "    <tr>\n",
       "      <th>0</th>\n",
       "      <td>3</td>\n",
       "      <td>Tim Elliot</td>\n",
       "      <td>2015-01-02</td>\n",
       "      <td>shot</td>\n",
       "      <td>gun</td>\n",
       "      <td>53.0</td>\n",
       "      <td>M</td>\n",
       "      <td>A</td>\n",
       "      <td>Shelton</td>\n",
       "      <td>WA</td>\n",
       "      <td>True</td>\n",
       "      <td>attack</td>\n",
       "      <td>Not fleeing</td>\n",
       "      <td>False</td>\n",
       "      <td>Senior Citizen</td>\n",
       "      <td>2015</td>\n",
       "    </tr>\n",
       "    <tr>\n",
       "      <th>1</th>\n",
       "      <td>4</td>\n",
       "      <td>Lewis Lee Lembke</td>\n",
       "      <td>2015-01-02</td>\n",
       "      <td>shot</td>\n",
       "      <td>gun</td>\n",
       "      <td>47.0</td>\n",
       "      <td>M</td>\n",
       "      <td>W</td>\n",
       "      <td>Aloha</td>\n",
       "      <td>OR</td>\n",
       "      <td>False</td>\n",
       "      <td>attack</td>\n",
       "      <td>Not fleeing</td>\n",
       "      <td>False</td>\n",
       "      <td>Adult</td>\n",
       "      <td>2015</td>\n",
       "    </tr>\n",
       "    <tr>\n",
       "      <th>2</th>\n",
       "      <td>5</td>\n",
       "      <td>John Paul Quintero</td>\n",
       "      <td>2015-01-03</td>\n",
       "      <td>shot and Tasered</td>\n",
       "      <td>unarmed</td>\n",
       "      <td>23.0</td>\n",
       "      <td>M</td>\n",
       "      <td>H</td>\n",
       "      <td>Wichita</td>\n",
       "      <td>KS</td>\n",
       "      <td>False</td>\n",
       "      <td>other</td>\n",
       "      <td>Not fleeing</td>\n",
       "      <td>False</td>\n",
       "      <td>Youth</td>\n",
       "      <td>2015</td>\n",
       "    </tr>\n",
       "    <tr>\n",
       "      <th>3</th>\n",
       "      <td>8</td>\n",
       "      <td>Matthew Hoffman</td>\n",
       "      <td>2015-01-04</td>\n",
       "      <td>shot</td>\n",
       "      <td>toy weapon</td>\n",
       "      <td>32.0</td>\n",
       "      <td>M</td>\n",
       "      <td>W</td>\n",
       "      <td>San Francisco</td>\n",
       "      <td>CA</td>\n",
       "      <td>True</td>\n",
       "      <td>attack</td>\n",
       "      <td>Not fleeing</td>\n",
       "      <td>False</td>\n",
       "      <td>Youth</td>\n",
       "      <td>2015</td>\n",
       "    </tr>\n",
       "    <tr>\n",
       "      <th>4</th>\n",
       "      <td>9</td>\n",
       "      <td>Michael Rodriguez</td>\n",
       "      <td>2015-01-04</td>\n",
       "      <td>shot</td>\n",
       "      <td>nail gun</td>\n",
       "      <td>39.0</td>\n",
       "      <td>M</td>\n",
       "      <td>H</td>\n",
       "      <td>Evans</td>\n",
       "      <td>CO</td>\n",
       "      <td>False</td>\n",
       "      <td>attack</td>\n",
       "      <td>Not fleeing</td>\n",
       "      <td>False</td>\n",
       "      <td>Adult</td>\n",
       "      <td>2015</td>\n",
       "    </tr>\n",
       "  </tbody>\n",
       "</table>\n",
       "</div>"
      ],
      "text/plain": [
       "   id                name        date   manner_of_death       armed   age  \\\n",
       "0   3          Tim Elliot  2015-01-02              shot         gun  53.0   \n",
       "1   4    Lewis Lee Lembke  2015-01-02              shot         gun  47.0   \n",
       "2   5  John Paul Quintero  2015-01-03  shot and Tasered     unarmed  23.0   \n",
       "3   8     Matthew Hoffman  2015-01-04              shot  toy weapon  32.0   \n",
       "4   9   Michael Rodriguez  2015-01-04              shot    nail gun  39.0   \n",
       "\n",
       "  gender race           city state  signs_of_mental_illness threat_level  \\\n",
       "0      M    A        Shelton    WA                     True       attack   \n",
       "1      M    W          Aloha    OR                    False       attack   \n",
       "2      M    H        Wichita    KS                    False        other   \n",
       "3      M    W  San Francisco    CA                     True       attack   \n",
       "4      M    H          Evans    CO                    False       attack   \n",
       "\n",
       "          flee  body_camera  age categories  year  \n",
       "0  Not fleeing        False  Senior Citizen  2015  \n",
       "1  Not fleeing        False           Adult  2015  \n",
       "2  Not fleeing        False           Youth  2015  \n",
       "3  Not fleeing        False           Youth  2015  \n",
       "4  Not fleeing        False           Adult  2015  "
      ]
     },
     "execution_count": 3,
     "metadata": {},
     "output_type": "execute_result"
    }
   ],
   "source": [
    "df = pd.read_csv('/Users/virensasalu/Documents/coding/UOA Coding Files/Course 2/Weekly_assignment_w2.csv')\n",
    "df.head()"
   ]
  },
  {
   "cell_type": "code",
   "execution_count": 4,
   "id": "f7c7f28b",
   "metadata": {
    "id": "f7c7f28b"
   },
   "outputs": [
    {
     "data": {
      "text/plain": [
       "(4478, 16)"
      ]
     },
     "execution_count": 4,
     "metadata": {},
     "output_type": "execute_result"
    }
   ],
   "source": [
    "# Check the shape of the dataset\n",
    "df.shape"
   ]
  },
  {
   "cell_type": "markdown",
   "id": "8340d0e8",
   "metadata": {
    "id": "8340d0e8"
   },
   "source": [
    "### Question: 1 ( 1 Mark )\n",
    "\n",
    "Check and Handle the missing values (NaN) present in each column with the respective methods "
   ]
  },
  {
   "cell_type": "code",
   "execution_count": 5,
   "id": "4c6deb73",
   "metadata": {
    "id": "4c6deb73"
   },
   "outputs": [
    {
     "name": "stdout",
     "output_type": "stream",
     "text": [
      "All Missing values in each columns are : id                           0\n",
      "name                         0\n",
      "date                         0\n",
      "manner_of_death              0\n",
      "armed                      248\n",
      "age                        169\n",
      "gender                       5\n",
      "race                       373\n",
      "city                         0\n",
      "state                        0\n",
      "signs_of_mental_illness      0\n",
      "threat_level                 0\n",
      "flee                       179\n",
      "body_camera                  0\n",
      "age categories               0\n",
      "year                         0\n",
      "dtype: int64\n",
      "\n",
      "Missing values in 'armed', 'age', 'gender', 'race', 'flee' columns are :  \n",
      " armed     248\n",
      "age       169\n",
      "gender      5\n",
      "race      373\n",
      "flee      179\n",
      "dtype: int64\n"
     ]
    }
   ],
   "source": [
    "AllMissingValues = df.isna().sum()\n",
    "\n",
    "SelectedColumns = ['armed', 'age', 'gender', 'race', 'flee']\n",
    "MissingValues = df[SelectedColumns].isna().sum()\n",
    "\n",
    "print(f\"All Missing values in each columns are : {AllMissingValues}\")\n",
    "print()\n",
    "print(f\"Missing values in 'armed', 'age', 'gender', 'race', 'flee' columns are :  \\n {MissingValues}\")"
   ]
  },
  {
   "cell_type": "code",
   "execution_count": 6,
   "id": "xQtkuyrr_W9n",
   "metadata": {
    "id": "xQtkuyrr_W9n"
   },
   "outputs": [],
   "source": [
    "#for Armed I have decided to use 'mode' (central tendency)\n",
    "df['armed'].fillna(df['armed'].mode().iloc[0], inplace=True)\n",
    "\n",
    "# for age I have decided to use 'Median' \n",
    "df['age'].fillna(df['age'].median(), inplace=True)\n",
    "\n",
    "#for gender I have decided to usse 'mode'\n",
    "df['gender'].fillna(df['gender'].mode().iloc[0], inplace=True)\n",
    "\n",
    "#for race I have decided to use 'mode' (central tendency)\n",
    "df['race'].fillna(df['race'].mode().iloc[0], inplace=True)\n",
    "\n",
    "#for flee I have decided to use 'mode' (central tendency)\n",
    "df['flee'].fillna(df['flee'].mode().iloc[0], inplace=True)"
   ]
  },
  {
   "cell_type": "code",
   "execution_count": 7,
   "id": "VWjDG6QOP4pc",
   "metadata": {
    "id": "VWjDG6QOP4pc"
   },
   "outputs": [
    {
     "name": "stdout",
     "output_type": "stream",
     "text": [
      "Checking for missing values: \n",
      " id                         0\n",
      "name                       0\n",
      "date                       0\n",
      "manner_of_death            0\n",
      "armed                      0\n",
      "age                        0\n",
      "gender                     0\n",
      "race                       0\n",
      "city                       0\n",
      "state                      0\n",
      "signs_of_mental_illness    0\n",
      "threat_level               0\n",
      "flee                       0\n",
      "body_camera                0\n",
      "age categories             0\n",
      "year                       0\n",
      "dtype: int64\n"
     ]
    }
   ],
   "source": [
    "# Check dataframe after handling missing values \n",
    "\n",
    "AllMissingValues = df.isna().sum()\n",
    "print(f'Checking for missing values: \\n {AllMissingValues}')"
   ]
  },
  {
   "cell_type": "markdown",
   "id": "a4efbe66",
   "metadata": {
    "id": "a4efbe66"
   },
   "source": [
    "### Question: 2 (1 Mark )\n",
    "Handle the outliers present in the age column "
   ]
  },
  {
   "cell_type": "code",
   "execution_count": 8,
   "id": "9Nrr8Ki4UBzy",
   "metadata": {
    "id": "9Nrr8Ki4UBzy"
   },
   "outputs": [
    {
     "data": {
      "text/plain": [
       "<module 'matplotlib.pyplot' from '/Users/virensasalu/Documents/coding/anaconda3/lib/python3.10/site-packages/matplotlib/pyplot.py'>"
      ]
     },
     "execution_count": 8,
     "metadata": {},
     "output_type": "execute_result"
    },
    {
     "data": {
      "image/png": "[encoded data removed]",
      "text/plain": [
       "<Figure size 640x480 with 1 Axes>"
      ]
     },
     "metadata": {},
     "output_type": "display_data"
    }
   ],
   "source": [
    "# Display the box plot before handling outliers in the age column\n",
    "#'<<__A__>>'\n",
    "\n",
    "sns.boxplot(y=df['age'])\n",
    "plt.xlabel('age')\n",
    "plt.title('Box Plot')\n",
    "plt"
   ]
  },
  {
   "cell_type": "markdown",
   "id": "8a50e120",
   "metadata": {
    "id": "a6d96152"
   },
   "source": [
    "### observations \n",
    "\n",
    "- In the above analysis, the Median age is close to 35 years\n",
    "- It is clear that there are maximal outliers. According to the outlier analysis the Outliers begin from the age of 72 years.\n",
    "- There are 39 specimens of outliers after the age of 72 years\n",
    "- The IQR is slightly Positively Skewed, Although it can be interpreted as Symmetric (Normal Distribution)\n",
    "- The IQR range is from 30years to 45 years Approximately"
   ]
  },
  {
   "cell_type": "code",
   "execution_count": 9,
   "id": "a6d96152",
   "metadata": {
    "id": "a6d96152"
   },
   "outputs": [],
   "source": [
    "# Quantile 1 of age column (25 percentage)\n",
    "Q1 = df['age'].quantile(0.25)\n",
    "# Quantile 3 of age column (75 percentage)\n",
    "Q3 = df['age'].quantile(0.75)"
   ]
  },
  {
   "cell_type": "code",
   "execution_count": 10,
   "id": "c25e9091",
   "metadata": {
    "id": "c25e9091"
   },
   "outputs": [
    {
     "data": {
      "text/plain": [
       "18.0"
      ]
     },
     "execution_count": 10,
     "metadata": {},
     "output_type": "execute_result"
    }
   ],
   "source": [
    "# Inter Quartile Range\n",
    "IQR = Q3 - Q1\n",
    "IQR"
   ]
  },
  {
   "cell_type": "code",
   "execution_count": 11,
   "id": "3cd435d2",
   "metadata": {
    "id": "3cd435d2"
   },
   "outputs": [
    {
     "name": "stdout",
     "output_type": "stream",
     "text": [
      "72.0\n",
      "0.0\n",
      "\n",
      "The Ages which are considered as outliers are \n",
      " 29      75.0\n",
      "92      74.0\n",
      "127     77.0\n",
      "275     83.0\n",
      "315     76.0\n",
      "426     86.0\n",
      "518     76.0\n",
      "598     77.0\n",
      "664     76.0\n",
      "1220    76.0\n",
      "1434    80.0\n",
      "1634    82.0\n",
      "1678    86.0\n",
      "1801    76.0\n",
      "1880    83.0\n",
      "1907    73.0\n",
      "2162    91.0\n",
      "2216    73.0\n",
      "2270    79.0\n",
      "2347    74.0\n",
      "2384    75.0\n",
      "2392    82.0\n",
      "2646    76.0\n",
      "3067    78.0\n",
      "3075    84.0\n",
      "3148    84.0\n",
      "3252    81.0\n",
      "3314    89.0\n",
      "3345    73.0\n",
      "3385    77.0\n",
      "3731    76.0\n",
      "3741    84.0\n",
      "3950    81.0\n",
      "4035    80.0\n",
      "4151    77.0\n",
      "4261    76.0\n",
      "4368    74.0\n",
      "4388    76.0\n",
      "4436    73.0\n",
      "Name: age, dtype: float64\n"
     ]
    }
   ],
   "source": [
    "# Outliers present in upper case\n",
    "UpperCase = Q3 + (1.5*IQR)\n",
    "print(UpperCase)\n",
    "# Outliers present in lower case\n",
    "LowerCase = Q1 - (1.5*IQR)\n",
    "print(LowerCase)\n",
    "outliers = df[(df['age'] > UpperCase) | (df['age'] < LowerCase)  ]\n",
    "\n",
    "print()\n",
    "print('The Ages which are considered as outliers are','\\n',outliers['age'] )"
   ]
  },
  {
   "cell_type": "code",
   "execution_count": 12,
   "id": "H7dxmFtpWGXk",
   "metadata": {
    "id": "H7dxmFtpWGXk"
   },
   "outputs": [
    {
     "name": "stdout",
     "output_type": "stream",
     "text": [
      "The Outliers are : \n",
      ",         id                  name        date   manner_of_death       armed  \\\n",
      "29      52      Talbot Schroeder  2015-01-14              shot       knife   \n",
      "92     554           James Allen  2015-02-07              shot         gun   \n",
      "127    255        Douglas Harris  2015-02-20              shot         gun   \n",
      "275    357   Richard Dale Weaver  2015-04-12              shot     machete   \n",
      "315    406         Albert Hanson  2015-04-26              shot         gun   \n",
      "426    542     Raymond  Phillips  2015-06-11              shot         gun   \n",
      "518    641      Charles Crandall  2015-07-14              shot         gun   \n",
      "598    724  Robert Patrick Quinn  2015-08-09              shot  toy weapon   \n",
      "664    797   Charles Robert Shaw  2015-09-01              shot         gun   \n",
      "1220  1395   Ralph \"Phil\" Grenon  2016-03-21  shot and Tasered       knife   \n",
      "1434  1621       Edward Acquisto  2016-06-13              shot         gun   \n",
      "1634  1822        Darrel Hetrick  2016-08-27              shot         gun   \n",
      "1678  1880          Eugene Craig  2016-09-12              shot         gun   \n",
      "1801  2008         Henry Simpson  2016-11-01              shot         gun   \n",
      "1880  2095      Quinton Phillips  2016-12-01              shot         gun   \n",
      "1907  2114       Francisco Serna  2016-12-12              shot     unarmed   \n",
      "2162  2407       Frank W. Wratny  2017-03-08              shot         gun   \n",
      "2216  2467         Lee Pat Milks  2017-03-28              shot         gun   \n",
      "2270  2524         Robert Becker  2017-04-24              shot         gun   \n",
      "2347  2605        Albert Gagnier  2017-05-23              shot         gun   \n",
      "2384  2645          Donald Smith  2017-06-07              shot         gun   \n",
      "2392  2653    Theodore Brendecke  2017-06-09              shot         gun   \n",
      "2646  2936   Joseph Charles Cook  2017-09-10              shot         gun   \n",
      "3067  3402         John Hamilton  2018-02-09              shot         gun   \n",
      "3075  3403        Raymond Bishop  2018-02-12              shot         gun   \n",
      "3148  4252   Amelia Huron-Macias  2018-03-07              shot     unarmed   \n",
      "3252  3578        Robert Litolff  2018-04-05              shot         gun   \n",
      "3314  4264       James D. Warren  2018-04-25              shot         gun   \n",
      "3345  3667         Dwight Dearth  2018-05-06              shot         gun   \n",
      "3385  3700       Jimmy Alan Moss  2018-05-19              shot         gun   \n",
      "3731  4085       Richard Palafox  2018-10-10              shot         gun   \n",
      "3741  4100          Kay Kenniker  2018-10-12              shot         gun   \n",
      "3950  4356       Harold Thompson  2019-01-05              shot         gun   \n",
      "4035  4431           Robert Matz  2019-02-04              shot         gun   \n",
      "4151  4576           James Young  2019-03-16              shot         gun   \n",
      "4261  4709    Robert Uhl Johnson  2019-05-02              shot         gun   \n",
      "4368  4799       DeWayne Watkins  2019-06-18              shot  toy weapon   \n",
      "4388  4827          William Lamb  2019-06-28              shot         gun   \n",
      "4436  4868     Tony Orland Mills  2019-07-18              shot         gun   \n",
      "\n",
      "       age gender race                  city state  signs_of_mental_illness  \\\n",
      "29    75.0      M    W            Old Bridge    NJ                    False   \n",
      "92    74.0      M    B              Gastonia    NC                    False   \n",
      "127   77.0      M    B            Birmingham    AL                     True   \n",
      "275   83.0      M    W         Oklahoma City    OK                     True   \n",
      "315   76.0      M    W          Kings County    CA                    False   \n",
      "426   86.0      M    W              Columbia    TN                     True   \n",
      "518   76.0      M    W           Southington    OH                    False   \n",
      "598   77.0      M    W              Pittston    PA                     True   \n",
      "664   76.0      M    W             Twinsburg    OH                    False   \n",
      "1220  76.0      M    W            Burlington    VT                     True   \n",
      "1434  80.0      M    H              Tiverton    RI                    False   \n",
      "1634  82.0      M    W            Morgantown    WV                    False   \n",
      "1678  86.0      M    W              Saratoga    CA                    False   \n",
      "1801  76.0      M    W           Carson City    NV                    False   \n",
      "1880  83.0      M    W                 Dover    AR                    False   \n",
      "1907  73.0      M    H           Bakersfield    CA                    False   \n",
      "2162  91.0      M    W        Union Township    PA                    False   \n",
      "2216  73.0      M    W              Manistee    MI                    False   \n",
      "2270  79.0      M    W          Stewartstown    PA                     True   \n",
      "2347  74.0      M    W             Knoxville    TN                    False   \n",
      "2384  75.0      M    W                Hudson    NC                     True   \n",
      "2392  82.0      M    W                 Miami    FL                     True   \n",
      "2646  76.0      M    W          Huntersville    NC                    False   \n",
      "3067  78.0      M    W             Flagstaff    AZ                    False   \n",
      "3075  84.0      M    W             Homestead    FL                     True   \n",
      "3148  84.0      F    W          Bexar County    TX                    False   \n",
      "3252  81.0      M    W                Greece    NY                    False   \n",
      "3314  89.0      M    W  Grand Canyon Caverns    AZ                     True   \n",
      "3345  73.0      M    W              Fairview    OH                     True   \n",
      "3385  77.0      M    W              Sunridge    NV                    False   \n",
      "3731  76.0      M    W               El Paso    TX                    False   \n",
      "3741  84.0      M    W              Chandler    AZ                     True   \n",
      "3950  81.0      M    W          Union County    SC                    False   \n",
      "4035  80.0      M    W            Clarksburg    WV                    False   \n",
      "4151  77.0      M    W            The Dalles    OR                    False   \n",
      "4261  76.0      M    W             Parkville    MD                     True   \n",
      "4368  74.0      M    B              Syracuse    NY                    False   \n",
      "4388  76.0      M    W                Smyrna    TN                    False   \n",
      "4436  73.0      M    W               Medford    OR                     True   \n",
      "\n",
      "     threat_level         flee  body_camera  age categories  year  \n",
      "29         attack  Not fleeing        False  Senior Citizen  2015  \n",
      "92         attack  Not fleeing        False  Senior Citizen  2015  \n",
      "127        attack  Not fleeing        False  Senior Citizen  2015  \n",
      "275         other  Not fleeing        False  Senior Citizen  2015  \n",
      "315        attack  Not fleeing        False  Senior Citizen  2015  \n",
      "426        attack  Not fleeing        False  Senior Citizen  2015  \n",
      "518        attack  Not fleeing        False  Senior Citizen  2015  \n",
      "598        attack  Not fleeing        False  Senior Citizen  2015  \n",
      "664        attack  Not fleeing        False  Senior Citizen  2015  \n",
      "1220        other  Not fleeing         True  Senior Citizen  2016  \n",
      "1434       attack          Car        False  Senior Citizen  2016  \n",
      "1634       attack  Not fleeing         True  Senior Citizen  2016  \n",
      "1678        other  Not fleeing        False  Senior Citizen  2016  \n",
      "1801        other  Not fleeing        False  Senior Citizen  2016  \n",
      "1880       attack  Not fleeing        False  Senior Citizen  2016  \n",
      "1907        other  Not fleeing        False  Senior Citizen  2016  \n",
      "2162       attack  Not fleeing        False  Senior Citizen  2017  \n",
      "2216       attack  Not fleeing        False  Senior Citizen  2017  \n",
      "2270       attack  Not fleeing        False  Senior Citizen  2017  \n",
      "2347       attack  Not fleeing        False  Senior Citizen  2017  \n",
      "2384       attack  Not fleeing        False  Senior Citizen  2017  \n",
      "2392       attack  Not fleeing        False  Senior Citizen  2017  \n",
      "2646       attack  Not fleeing        False  Senior Citizen  2017  \n",
      "3067        other  Not fleeing         True  Senior Citizen  2018  \n",
      "3075       attack  Not fleeing        False  Senior Citizen  2018  \n",
      "3148        other  Not fleeing        False  Senior Citizen  2018  \n",
      "3252       attack  Not fleeing        False  Senior Citizen  2018  \n",
      "3314       attack  Not fleeing        False  Senior Citizen  2018  \n",
      "3345       attack  Not fleeing        False  Senior Citizen  2018  \n",
      "3385       attack  Not fleeing        False  Senior Citizen  2018  \n",
      "3731       attack  Not fleeing        False  Senior Citizen  2018  \n",
      "3741       attack  Not fleeing        False  Senior Citizen  2018  \n",
      "3950       attack  Not fleeing        False  Senior Citizen  2019  \n",
      "4035       attack  Not fleeing        False  Senior Citizen  2019  \n",
      "4151       attack  Not fleeing        False  Senior Citizen  2019  \n",
      "4261       attack  Not fleeing         True  Senior Citizen  2019  \n",
      "4368       attack  Not fleeing        False  Senior Citizen  2019  \n",
      "4388       attack  Not fleeing        False  Senior Citizen  2019  \n",
      "4436       attack  Not fleeing        False  Senior Citizen  2019  \n"
     ]
    }
   ],
   "source": [
    "print('The Outliers are :' ,'\\n,', outliers)"
   ]
  },
  {
   "cell_type": "code",
   "execution_count": 13,
   "id": "6vaGoy85XhQi",
   "metadata": {
    "id": "6vaGoy85XhQi"
   },
   "outputs": [],
   "source": [
    "# Remove the outliers in age column\n",
    "#df['age'] = '<<__B__>>'\n",
    "\n",
    "df = df[(df['age'] > LowerCase) & (df['age'] < UpperCase)]\n",
    "\n",
    "\n",
    "# TODO: Code to fill: \n",
    "\n",
    "# 1. '<<__B__>>' --> write the your command to remove outliers outside upper case and lower case"
   ]
  },
  {
   "cell_type": "code",
   "execution_count": 14,
   "id": "o4dxsnxYbinT",
   "metadata": {
    "id": "o4dxsnxYbinT"
   },
   "outputs": [
    {
     "data": {
      "text/plain": [
       "<module 'matplotlib.pyplot' from '/Users/virensasalu/Documents/coding/anaconda3/lib/python3.10/site-packages/matplotlib/pyplot.py'>"
      ]
     },
     "execution_count": 14,
     "metadata": {},
     "output_type": "execute_result"
    },
    {
     "data": {
      "image/png": "[encoded data removed]",
      "text/plain": [
       "<Figure size 640x480 with 1 Axes>"
      ]
     },
     "metadata": {},
     "output_type": "display_data"
    }
   ],
   "source": [
    "# Display the box plot after handling outliers in the age column\n",
    "\n",
    "sns.boxplot(y=df['age'])\n",
    "plt.ylabel('age ---->')\n",
    "plt.title('Box Plot')\n",
    "\n",
    "plt"
   ]
  },
  {
   "cell_type": "markdown",
   "id": "e00ce530",
   "metadata": {
    "id": "195e585a"
   },
   "source": [
    "### Observations \n",
    "- The Outliers are removed\n",
    "- The data is opt for further analysis"
   ]
  },
  {
   "cell_type": "markdown",
   "id": "195e585a",
   "metadata": {
    "id": "195e585a"
   },
   "source": [
    "### Question: 3 ( 1 Mark )\n",
    "Plot a bar graph which tells most repeated weapons used to attack the people  "
   ]
  },
  {
   "cell_type": "code",
   "execution_count": 15,
   "id": "nyI9VIXrb197",
   "metadata": {
    "id": "nyI9VIXrb197"
   },
   "outputs": [
    {
     "data": {
      "text/plain": [
       "<module 'matplotlib.pyplot' from '/Users/virensasalu/Documents/coding/anaconda3/lib/python3.10/site-packages/matplotlib/pyplot.py'>"
      ]
     },
     "execution_count": 15,
     "metadata": {},
     "output_type": "execute_result"
    },
    {
     "data": {
      "image/png": "[encoded data removed]",
      "text/plain": [
       "<Figure size 1200x600 with 1 Axes>"
      ]
     },
     "metadata": {},
     "output_type": "display_data"
    }
   ],
   "source": [
    "# # Get the value count of armed column\n",
    "\n",
    "armed = df['armed'].value_counts()\n",
    "\n",
    "plt.figure(figsize=(12, 6))\n",
    "\n",
    "sns.barplot(x=armed[:7].index, y=armed[:7].values)\n",
    "\n",
    "plt.ylabel('Count---->')\n",
    "plt.xlabel('Armed Category (Weapon)')\n",
    "plt.title('Distribution of Armed Categories (Top 7)', fontsize=15, color='blue')\n",
    "\n",
    "plt"
   ]
  },
  {
   "cell_type": "markdown",
   "id": "2feab59c",
   "metadata": {
    "id": "be08780a"
   },
   "source": [
    "### Observations\n",
    "- From the Plot, it is clear that Gun is most use category of weapon\n",
    "- Knife is the second used weapon\n",
    "- Gun is used 246% more than the knife\n",
    "- There are considerable amount of unarmed suspects and 1/4th of knife were wielding Toy weapon\n",
    "- these are top 7 weapon category\n",
    "- Significant amount of suspects used Vehicles as weapon"
   ]
  },
  {
   "cell_type": "markdown",
   "id": "be08780a",
   "metadata": {
    "id": "be08780a"
   },
   "source": [
    "### Question: 4 ( 2 Marks )\n",
    "Generate a bar plot to identify days in which the count of attacks are reported most "
   ]
  },
  {
   "cell_type": "code",
   "execution_count": 16,
   "id": "971a56f7",
   "metadata": {
    "id": "_wg5L08ocZff"
   },
   "outputs": [],
   "source": [
    "# Create a new columns day, month, year using date column with the help of pandas to_datetime method\n",
    "df['day'] = pd.to_datetime(df['date']).dt.day\n",
    "df['month'] = pd.to_datetime(df['date']).dt.month\n",
    "df['year'] = pd.to_datetime(df['date']).dt.year"
   ]
  },
  {
   "cell_type": "code",
   "execution_count": 17,
   "id": "_wg5L08ocZff",
   "metadata": {
    "id": "_wg5L08ocZff"
   },
   "outputs": [
    {
     "data": {
      "text/html": [
       "<div>\n",
       "<style scoped>\n",
       "    .dataframe tbody tr th:only-of-type {\n",
       "        vertical-align: middle;\n",
       "    }\n",
       "\n",
       "    .dataframe tbody tr th {\n",
       "        vertical-align: top;\n",
       "    }\n",
       "\n",
       "    .dataframe thead th {\n",
       "        text-align: right;\n",
       "    }\n",
       "</style>\n",
       "<table border=\"1\" class=\"dataframe\">\n",
       "  <thead>\n",
       "    <tr style=\"text-align: right;\">\n",
       "      <th></th>\n",
       "      <th>id</th>\n",
       "      <th>name</th>\n",
       "      <th>date</th>\n",
       "      <th>manner_of_death</th>\n",
       "      <th>armed</th>\n",
       "      <th>age</th>\n",
       "      <th>gender</th>\n",
       "      <th>race</th>\n",
       "      <th>city</th>\n",
       "      <th>state</th>\n",
       "      <th>signs_of_mental_illness</th>\n",
       "      <th>threat_level</th>\n",
       "      <th>flee</th>\n",
       "      <th>body_camera</th>\n",
       "      <th>age categories</th>\n",
       "      <th>year</th>\n",
       "      <th>day</th>\n",
       "      <th>month</th>\n",
       "    </tr>\n",
       "  </thead>\n",
       "  <tbody>\n",
       "    <tr>\n",
       "      <th>0</th>\n",
       "      <td>3</td>\n",
       "      <td>Tim Elliot</td>\n",
       "      <td>2015-01-02</td>\n",
       "      <td>shot</td>\n",
       "      <td>gun</td>\n",
       "      <td>53.0</td>\n",
       "      <td>M</td>\n",
       "      <td>A</td>\n",
       "      <td>Shelton</td>\n",
       "      <td>WA</td>\n",
       "      <td>True</td>\n",
       "      <td>attack</td>\n",
       "      <td>Not fleeing</td>\n",
       "      <td>False</td>\n",
       "      <td>Senior Citizen</td>\n",
       "      <td>2015</td>\n",
       "      <td>2</td>\n",
       "      <td>1</td>\n",
       "    </tr>\n",
       "    <tr>\n",
       "      <th>1</th>\n",
       "      <td>4</td>\n",
       "      <td>Lewis Lee Lembke</td>\n",
       "      <td>2015-01-02</td>\n",
       "      <td>shot</td>\n",
       "      <td>gun</td>\n",
       "      <td>47.0</td>\n",
       "      <td>M</td>\n",
       "      <td>W</td>\n",
       "      <td>Aloha</td>\n",
       "      <td>OR</td>\n",
       "      <td>False</td>\n",
       "      <td>attack</td>\n",
       "      <td>Not fleeing</td>\n",
       "      <td>False</td>\n",
       "      <td>Adult</td>\n",
       "      <td>2015</td>\n",
       "      <td>2</td>\n",
       "      <td>1</td>\n",
       "    </tr>\n",
       "    <tr>\n",
       "      <th>2</th>\n",
       "      <td>5</td>\n",
       "      <td>John Paul Quintero</td>\n",
       "      <td>2015-01-03</td>\n",
       "      <td>shot and Tasered</td>\n",
       "      <td>unarmed</td>\n",
       "      <td>23.0</td>\n",
       "      <td>M</td>\n",
       "      <td>H</td>\n",
       "      <td>Wichita</td>\n",
       "      <td>KS</td>\n",
       "      <td>False</td>\n",
       "      <td>other</td>\n",
       "      <td>Not fleeing</td>\n",
       "      <td>False</td>\n",
       "      <td>Youth</td>\n",
       "      <td>2015</td>\n",
       "      <td>3</td>\n",
       "      <td>1</td>\n",
       "    </tr>\n",
       "    <tr>\n",
       "      <th>3</th>\n",
       "      <td>8</td>\n",
       "      <td>Matthew Hoffman</td>\n",
       "      <td>2015-01-04</td>\n",
       "      <td>shot</td>\n",
       "      <td>toy weapon</td>\n",
       "      <td>32.0</td>\n",
       "      <td>M</td>\n",
       "      <td>W</td>\n",
       "      <td>San Francisco</td>\n",
       "      <td>CA</td>\n",
       "      <td>True</td>\n",
       "      <td>attack</td>\n",
       "      <td>Not fleeing</td>\n",
       "      <td>False</td>\n",
       "      <td>Youth</td>\n",
       "      <td>2015</td>\n",
       "      <td>4</td>\n",
       "      <td>1</td>\n",
       "    </tr>\n",
       "    <tr>\n",
       "      <th>4</th>\n",
       "      <td>9</td>\n",
       "      <td>Michael Rodriguez</td>\n",
       "      <td>2015-01-04</td>\n",
       "      <td>shot</td>\n",
       "      <td>nail gun</td>\n",
       "      <td>39.0</td>\n",
       "      <td>M</td>\n",
       "      <td>H</td>\n",
       "      <td>Evans</td>\n",
       "      <td>CO</td>\n",
       "      <td>False</td>\n",
       "      <td>attack</td>\n",
       "      <td>Not fleeing</td>\n",
       "      <td>False</td>\n",
       "      <td>Adult</td>\n",
       "      <td>2015</td>\n",
       "      <td>4</td>\n",
       "      <td>1</td>\n",
       "    </tr>\n",
       "  </tbody>\n",
       "</table>\n",
       "</div>"
      ],
      "text/plain": [
       "   id                name        date   manner_of_death       armed   age  \\\n",
       "0   3          Tim Elliot  2015-01-02              shot         gun  53.0   \n",
       "1   4    Lewis Lee Lembke  2015-01-02              shot         gun  47.0   \n",
       "2   5  John Paul Quintero  2015-01-03  shot and Tasered     unarmed  23.0   \n",
       "3   8     Matthew Hoffman  2015-01-04              shot  toy weapon  32.0   \n",
       "4   9   Michael Rodriguez  2015-01-04              shot    nail gun  39.0   \n",
       "\n",
       "  gender race           city state  signs_of_mental_illness threat_level  \\\n",
       "0      M    A        Shelton    WA                     True       attack   \n",
       "1      M    W          Aloha    OR                    False       attack   \n",
       "2      M    H        Wichita    KS                    False        other   \n",
       "3      M    W  San Francisco    CA                     True       attack   \n",
       "4      M    H          Evans    CO                    False       attack   \n",
       "\n",
       "          flee  body_camera  age categories  year  day  month  \n",
       "0  Not fleeing        False  Senior Citizen  2015    2      1  \n",
       "1  Not fleeing        False           Adult  2015    2      1  \n",
       "2  Not fleeing        False           Youth  2015    3      1  \n",
       "3  Not fleeing        False           Youth  2015    4      1  \n",
       "4  Not fleeing        False           Adult  2015    4      1  "
      ]
     },
     "execution_count": 17,
     "metadata": {},
     "output_type": "execute_result"
    }
   ],
   "source": [
    "df.head()"
   ]
  },
  {
   "cell_type": "code",
   "execution_count": 18,
   "id": "3enV_aY1eNHT",
   "metadata": {
    "id": "3enV_aY1eNHT",
    "scrolled": true
   },
   "outputs": [
    {
     "data": {
      "text/plain": [
       "<module 'matplotlib.pyplot' from '/Users/virensasalu/Documents/coding/anaconda3/lib/python3.10/site-packages/matplotlib/pyplot.py'>"
      ]
     },
     "execution_count": 18,
     "metadata": {},
     "output_type": "execute_result"
    },
    {
     "data": {
      "image/png": "[encoded data removed]",
      "text/plain": [
       "<Figure size 1200x600 with 1 Axes>"
      ]
     },
     "metadata": {},
     "output_type": "display_data"
    }
   ],
   "source": [
    "#Plot a bar graph in which days the count of attcks are more\n",
    "\n",
    "df['day'].value_counts().plot(kind='bar', figsize=(12, 6))\n",
    "\n",
    "plt.xlabel('---Days---')\n",
    "plt.ylabel('Number of Attacks---->')\n",
    "plt.title('Number of Attacks in a Day ')\n",
    "\n",
    "plt"
   ]
  },
  {
   "cell_type": "markdown",
   "id": "c553c70c",
   "metadata": {
    "id": "d9347ed8"
   },
   "source": []
  },
  {
   "cell_type": "markdown",
   "id": "30550a24",
   "metadata": {
    "id": "d9347ed8"
   },
   "source": [
    "### Observations\n",
    "- The representations is clear, on the 5th collectively there were close to 175 attacks \n",
    "- Closely followed, on 11th collectively; There were a little over 150 attacks\n"
   ]
  },
  {
   "cell_type": "markdown",
   "id": "d9347ed8",
   "metadata": {
    "id": "d9347ed8"
   },
   "source": [
    "### Question: 5 ( 2 Marks )\n",
    "Display the Top 10 states where the high number of cases recorded "
   ]
  },
  {
   "cell_type": "code",
   "execution_count": 19,
   "id": "3baae75c",
   "metadata": {
    "id": "3baae75c"
   },
   "outputs": [
    {
     "data": {
      "text/plain": [
       "<module 'matplotlib.pyplot' from '/Users/virensasalu/Documents/coding/anaconda3/lib/python3.10/site-packages/matplotlib/pyplot.py'>"
      ]
     },
     "execution_count": 19,
     "metadata": {},
     "output_type": "execute_result"
    },
    {
     "data": {
      "image/png": "[encoded data removed]",
      "text/plain": [
       "<Figure size 1000x700 with 1 Axes>"
      ]
     },
     "metadata": {},
     "output_type": "display_data"
    }
   ],
   "source": [
    "# Write your code here\n",
    "\n",
    "StateCounts = df['state'].value_counts().head(10)\n",
    "\n",
    "plt.figure(figsize=(10, 7))\n",
    "sns.barplot(x=StateCounts.index, y=StateCounts.values, palette='viridis')\n",
    "\n",
    "plt.ylabel('Number of Cases Reported--->')\n",
    "plt.xlabel('States')\n",
    "plt.title('Top 10 States with the Highest Number of Cases', fontsize=15, color='blue')\n",
    "\n",
    "plt"
   ]
  },
  {
   "cell_type": "markdown",
   "id": "f59bd487",
   "metadata": {
    "id": "kubiq3XvoaUE"
   },
   "source": [
    "### Observations\n",
    "- From the observation of top 10 states with highest number of cases, CA leads with 675 cases\n",
    "- Followed by Tx which is 41% lesser at 400 cases"
   ]
  },
  {
   "cell_type": "markdown",
   "id": "kubiq3XvoaUE",
   "metadata": {
    "id": "kubiq3XvoaUE"
   },
   "source": [
    "### Question: 6 ( 1 Mark )\n",
    "Drop the features that have more unique string values and not relevant to the model."
   ]
  },
  {
   "cell_type": "code",
   "execution_count": 20,
   "id": "YiwyptpOoorz",
   "metadata": {
    "id": "YiwyptpOoorz"
   },
   "outputs": [],
   "source": [
    "# Drop the features that have more unique string values and not relevant to the model.\n",
    "\n",
    "# unique values such has 'ID', 'name' and 'date'. Although decided to keep 'year', 'day' and 'month'\n",
    "\n",
    "df.drop(columns=['id', 'name','date'],axis=1,inplace=True)"
   ]
  },
  {
   "cell_type": "code",
   "execution_count": 21,
   "id": "t95ykFkxoyQZ",
   "metadata": {
    "id": "t95ykFkxoyQZ"
   },
   "outputs": [
    {
     "data": {
      "text/html": [
       "<div>\n",
       "<style scoped>\n",
       "    .dataframe tbody tr th:only-of-type {\n",
       "        vertical-align: middle;\n",
       "    }\n",
       "\n",
       "    .dataframe tbody tr th {\n",
       "        vertical-align: top;\n",
       "    }\n",
       "\n",
       "    .dataframe thead th {\n",
       "        text-align: right;\n",
       "    }\n",
       "</style>\n",
       "<table border=\"1\" class=\"dataframe\">\n",
       "  <thead>\n",
       "    <tr style=\"text-align: right;\">\n",
       "      <th></th>\n",
       "      <th>manner_of_death</th>\n",
       "      <th>armed</th>\n",
       "      <th>age</th>\n",
       "      <th>gender</th>\n",
       "      <th>race</th>\n",
       "      <th>city</th>\n",
       "      <th>state</th>\n",
       "      <th>signs_of_mental_illness</th>\n",
       "      <th>threat_level</th>\n",
       "      <th>flee</th>\n",
       "      <th>body_camera</th>\n",
       "      <th>age categories</th>\n",
       "      <th>year</th>\n",
       "      <th>day</th>\n",
       "      <th>month</th>\n",
       "    </tr>\n",
       "  </thead>\n",
       "  <tbody>\n",
       "    <tr>\n",
       "      <th>0</th>\n",
       "      <td>shot</td>\n",
       "      <td>gun</td>\n",
       "      <td>53.0</td>\n",
       "      <td>M</td>\n",
       "      <td>A</td>\n",
       "      <td>Shelton</td>\n",
       "      <td>WA</td>\n",
       "      <td>True</td>\n",
       "      <td>attack</td>\n",
       "      <td>Not fleeing</td>\n",
       "      <td>False</td>\n",
       "      <td>Senior Citizen</td>\n",
       "      <td>2015</td>\n",
       "      <td>2</td>\n",
       "      <td>1</td>\n",
       "    </tr>\n",
       "    <tr>\n",
       "      <th>1</th>\n",
       "      <td>shot</td>\n",
       "      <td>gun</td>\n",
       "      <td>47.0</td>\n",
       "      <td>M</td>\n",
       "      <td>W</td>\n",
       "      <td>Aloha</td>\n",
       "      <td>OR</td>\n",
       "      <td>False</td>\n",
       "      <td>attack</td>\n",
       "      <td>Not fleeing</td>\n",
       "      <td>False</td>\n",
       "      <td>Adult</td>\n",
       "      <td>2015</td>\n",
       "      <td>2</td>\n",
       "      <td>1</td>\n",
       "    </tr>\n",
       "    <tr>\n",
       "      <th>2</th>\n",
       "      <td>shot and Tasered</td>\n",
       "      <td>unarmed</td>\n",
       "      <td>23.0</td>\n",
       "      <td>M</td>\n",
       "      <td>H</td>\n",
       "      <td>Wichita</td>\n",
       "      <td>KS</td>\n",
       "      <td>False</td>\n",
       "      <td>other</td>\n",
       "      <td>Not fleeing</td>\n",
       "      <td>False</td>\n",
       "      <td>Youth</td>\n",
       "      <td>2015</td>\n",
       "      <td>3</td>\n",
       "      <td>1</td>\n",
       "    </tr>\n",
       "    <tr>\n",
       "      <th>3</th>\n",
       "      <td>shot</td>\n",
       "      <td>toy weapon</td>\n",
       "      <td>32.0</td>\n",
       "      <td>M</td>\n",
       "      <td>W</td>\n",
       "      <td>San Francisco</td>\n",
       "      <td>CA</td>\n",
       "      <td>True</td>\n",
       "      <td>attack</td>\n",
       "      <td>Not fleeing</td>\n",
       "      <td>False</td>\n",
       "      <td>Youth</td>\n",
       "      <td>2015</td>\n",
       "      <td>4</td>\n",
       "      <td>1</td>\n",
       "    </tr>\n",
       "    <tr>\n",
       "      <th>4</th>\n",
       "      <td>shot</td>\n",
       "      <td>nail gun</td>\n",
       "      <td>39.0</td>\n",
       "      <td>M</td>\n",
       "      <td>H</td>\n",
       "      <td>Evans</td>\n",
       "      <td>CO</td>\n",
       "      <td>False</td>\n",
       "      <td>attack</td>\n",
       "      <td>Not fleeing</td>\n",
       "      <td>False</td>\n",
       "      <td>Adult</td>\n",
       "      <td>2015</td>\n",
       "      <td>4</td>\n",
       "      <td>1</td>\n",
       "    </tr>\n",
       "  </tbody>\n",
       "</table>\n",
       "</div>"
      ],
      "text/plain": [
       "    manner_of_death       armed   age gender race           city state  \\\n",
       "0              shot         gun  53.0      M    A        Shelton    WA   \n",
       "1              shot         gun  47.0      M    W          Aloha    OR   \n",
       "2  shot and Tasered     unarmed  23.0      M    H        Wichita    KS   \n",
       "3              shot  toy weapon  32.0      M    W  San Francisco    CA   \n",
       "4              shot    nail gun  39.0      M    H          Evans    CO   \n",
       "\n",
       "   signs_of_mental_illness threat_level         flee  body_camera  \\\n",
       "0                     True       attack  Not fleeing        False   \n",
       "1                    False       attack  Not fleeing        False   \n",
       "2                    False        other  Not fleeing        False   \n",
       "3                     True       attack  Not fleeing        False   \n",
       "4                    False       attack  Not fleeing        False   \n",
       "\n",
       "   age categories  year  day  month  \n",
       "0  Senior Citizen  2015    2      1  \n",
       "1           Adult  2015    2      1  \n",
       "2           Youth  2015    3      1  \n",
       "3           Youth  2015    4      1  \n",
       "4           Adult  2015    4      1  "
      ]
     },
     "execution_count": 21,
     "metadata": {},
     "output_type": "execute_result"
    }
   ],
   "source": [
    "#Display the top 5 rows of dataset after droping the unnecessary features\n",
    "\n",
    "df.head(5)\n",
    "#df.shape"
   ]
  },
  {
   "cell_type": "markdown",
   "id": "omvTUjRjpXRj",
   "metadata": {
    "id": "omvTUjRjpXRj"
   },
   "source": [
    "### Question: 7 ( 2 Marks )\n",
    "Create a line plot that shows the number of attacks every year according to race"
   ]
  },
  {
   "cell_type": "code",
   "execution_count": 22,
   "id": "xV72XEJkpT0-",
   "metadata": {
    "id": "xV72XEJkpT0-"
   },
   "outputs": [
    {
     "data": {
      "text/plain": [
       "<module 'matplotlib.pyplot' from '/Users/virensasalu/Documents/coding/anaconda3/lib/python3.10/site-packages/matplotlib/pyplot.py'>"
      ]
     },
     "execution_count": 22,
     "metadata": {},
     "output_type": "execute_result"
    },
    {
     "data": {
      "image/png": "[encoded data removed]",
      "text/plain": [
       "<Figure size 1200x600 with 1 Axes>"
      ]
     },
     "metadata": {},
     "output_type": "display_data"
    }
   ],
   "source": [
    "# Write your code here\n",
    "\n",
    "pd.crosstab(df['year'], df['race']).plot.line(figsize=(12, 6))\n",
    "\n",
    "# Set plot labels and title\n",
    "plt.xlabel('Year')\n",
    "plt.ylabel('Number of Attacks')\n",
    "plt.title('Number of Attacks Every Year According to Race', fontsize=15)\n",
    "\n",
    "plt"
   ]
  },
  {
   "cell_type": "markdown",
   "id": "e34c7bb9",
   "metadata": {
    "id": "9f6279cb"
   },
   "source": [
    "### Observations\n",
    "- From the representation, Race W has the most number of attacks throughout the years. \n",
    "- There was slight incline throughout 2015-2018, after which a sudden sharp fall, continuing to decline over there after\n",
    "- It’s important to note the population density of each race to make a fair comparison. \n",
    "- The race B has pretty much had a declining curve and a steep cut in 2018\n",
    "- The race H has seen some undulations throughout \n",
    "- Rest of the race have pretty much have had the same crime rate.\n",
    "- Interesting fact to note is that, in 2018 there much have been some new police, law and order reform. Hence the sudden decline in crime rates.\n"
   ]
  },
  {
   "cell_type": "markdown",
   "id": "9f6279cb",
   "metadata": {
    "id": "9f6279cb"
   },
   "source": [
    "## Thank you!"
   ]
  },
  {
   "cell_type": "code",
   "execution_count": null,
   "id": "42fc5bcd",
   "metadata": {},
   "outputs": [],
   "source": []
  }
 ],
 "metadata": {
  "colab": {
   "provenance": []
  },
  "kernelspec": {
   "display_name": "Python 3 (ipykernel)",
   "language": "python",
   "name": "python3"
  },
  "language_info": {
   "codemirror_mode": {
    "name": "ipython",
    "version": 3
   },
   "file_extension": ".py",
   "mimetype": "text/x-python",
   "name": "python",
   "nbconvert_exporter": "python",
   "pygments_lexer": "ipython3",
   "version": "3.10.9"
  }
 },
 "nbformat": 4,
 "nbformat_minor": 5
}
